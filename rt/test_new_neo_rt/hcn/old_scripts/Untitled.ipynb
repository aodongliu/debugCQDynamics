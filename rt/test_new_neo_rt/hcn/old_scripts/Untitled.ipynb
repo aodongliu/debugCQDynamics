{
 "cells": [
  {
   "cell_type": "code",
   "execution_count": 1,
   "id": "c0ec45d0",
   "metadata": {},
   "outputs": [],
   "source": [
    "import h5py\n",
    "import matplotlib.pyplot as plt\n",
    "import numpy\n",
    "\n",
    "from functional import *"
   ]
  },
  {
   "cell_type": "code",
   "execution_count": 2,
   "id": "3044e342",
   "metadata": {},
   "outputs": [],
   "source": [
    "DAMP = 0.001\n",
    "\n",
    "def read_dataset(fname, path):\n",
    "    f = h5py.File(fname)\n",
    "    return numpy.array(f[path])"
   ]
  },
  {
   "cell_type": "code",
   "execution_count": 3,
   "id": "798e7ff4",
   "metadata": {},
   "outputs": [
    {
     "name": "stderr",
     "output_type": "stream",
     "text": [
      "<ipython-input-2-6ad5c3050423>:4: H5pyDeprecationWarning: The default file mode will change to 'r' (read-only) in h5py 3.0. To suppress this warning, pass the mode you need to h5py.File(), or set the global default h5.get_config().default_file_mode, or set the environment variable H5PY_DEFAULT_READONLY=1. Available modes are: 'r', 'r+', 'w', 'w-'/'x', 'a'. See the docs for details.\n",
      "  f = h5py.File(fname)\n"
     ]
    }
   ],
   "source": [
    "time = read_dataset('HCN_ccpVDZ_prot_8s8p8d_dx_0p001.bin', \"RT/TIME\")\n",
    "time_r = read_dataset('HCN_ccpVDZ_prot_8s8p8d_dx_0p001.bin', \"RT/TIME\")\n",
    "\n",
    "ux = read_dataset('HCN_ccpVDZ_prot_8s8p8d_dx_0p001.bin', \"RT/LEN_ELEC_DIPOLE\")[:,0]\n",
    "uy = read_dataset('HCN_ccpVDZ_prot_8s8p8d_dy_0p001.bin', \"RT/LEN_ELEC_DIPOLE\")[:,1]\n",
    "uz = read_dataset('HCN_ccpVDZ_prot_8s8p8d_dz_0p001.bin', \"RT/LEN_ELEC_DIPOLE\")[:,2]\n",
    "\n",
    "ux_r = read_dataset('HCN_ccpVDZ_dx_0p001.bin', \"RT/LEN_ELEC_DIPOLE\")[:,0]\n",
    "uy_r = read_dataset('HCN_ccpVDZ_dy_0p001.bin', \"RT/LEN_ELEC_DIPOLE\")[:,1]\n",
    "uz_r = read_dataset('HCN_ccpVDZ_dz_0p001.bin', \"RT/LEN_ELEC_DIPOLE\")[:,2]\n",
    "\n",
    "dt = time[1] - time[0]\n",
    "dt_r =  time_r[1] - time_r[0]\n",
    "\n"
   ]
  },
  {
   "cell_type": "code",
   "execution_count": 5,
   "id": "2ae9b9d0",
   "metadata": {},
   "outputs": [
    {
     "data": {
      "text/plain": [
       "array([ 0.00000000e+00,  5.98669241e-06,  1.94926788e-05, ...,\n",
       "       -6.78905713e-06, -6.96207238e-06, -7.12585726e-06])"
      ]
     },
     "execution_count": 5,
     "metadata": {},
     "output_type": "execute_result"
    }
   ],
   "source": [
    "ux_r"
   ]
  },
  {
   "cell_type": "code",
   "execution_count": 13,
   "id": "df8d7be5",
   "metadata": {},
   "outputs": [],
   "source": [
    "signals = [ux, uy, uz]\n",
    "signals_r  = [ux_r , uy_r , uz_r]\n",
    "# Fourier transformed spectra\n",
    "spects = []\n",
    "freq = None\n",
    "for s in signals:\n",
    "    s -= s[0]\n",
    "    s *= np.exp(-DAMP*time)\n",
    "    #w, f = fourier_tx(s, dt, 0)\n",
    "    w, f = pade_tx(s, dt, (0,5),res=10000)\n",
    "    freq = w\n",
    "    spects.append(f)\n",
    "total = sum([f.imag for f in spects]) / 3\n",
    "total *= freq\n",
    "\n",
    "spects_r = []\n",
    "freq_r = None\n",
    "for s in signals_r:\n",
    "    s -= s[0]\n",
    "    s *= np.exp(-DAMP*time_r)\n",
    "    #w, f = fourier_tx(s, dt, 0)\n",
    "    w, f = pade_tx(s, dt_r, (0,5),res=10000)\n",
    "    freq_r = w\n",
    "    spects_r.append(f)\n",
    "total_r = sum([f.imag for f in spects_r]) / 3\n",
    "total_r *= freq_r"
   ]
  },
  {
   "cell_type": "code",
   "execution_count": 14,
   "id": "92fd3eef",
   "metadata": {},
   "outputs": [
    {
     "data": {
      "image/png": "[encoded data removed]",
      "text/plain": [
       "<Figure size 432x288 with 1 Axes>"
      ]
     },
     "metadata": {
      "needs_background": "light"
     },
     "output_type": "display_data"
    }
   ],
   "source": [
    "# Plotting\n",
    "plt.plot(freq*27.2114, total, c='b',label=\"NEO-TDDFT\")\n",
    "plt.plot(freq_r*27.2114, total_r, c='r', label='TDDFT')\n",
    "plt.xlim(0,30)\n",
    "plt.ylim(0,0.1)\n",
    "plt.ylabel(\"Intensity\", fontsize=12)\n",
    "plt.xlabel(\"Energy (eV)\", fontsize=12)\n",
    "plt.tight_layout()\n",
    "plt.legend(loc=\"upper left\")\n",
    "plt.title(\"HCN Proton vibrational spectra, RT-NEO-TDDFT/ccpVDZ, 8s8p8z\")\n",
    "#plt.savefig(\"HCN_single_proton.pdf\")\n",
    "plt.show()"
   ]
  },
  {
   "cell_type": "code",
   "execution_count": null,
   "id": "1a260e23",
   "metadata": {},
   "outputs": [],
   "source": []
  }
 ],
 "metadata": {
  "kernelspec": {
   "display_name": "Python 3",
   "language": "python",
   "name": "python3"
  },
  "language_info": {
   "codemirror_mode": {
    "name": "ipython",
    "version": 3
   },
   "file_extension": ".py",
   "mimetype": "text/x-python",
   "name": "python",
   "nbconvert_exporter": "python",
   "pygments_lexer": "ipython3",
   "version": "3.8.8"
  }
 },
 "nbformat": 4,
 "nbformat_minor": 5
}
